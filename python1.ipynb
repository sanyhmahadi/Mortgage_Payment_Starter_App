{
  "nbformat": 4,
  "nbformat_minor": 0,
  "metadata": {
    "colab": {
      "name": "python1.ipynb",
      "provenance": [],
      "collapsed_sections": [],
      "authorship_tag": "ABX9TyPbKFILIBsvx3O58Rp1hS8h",
      "include_colab_link": true
    },
    "kernelspec": {
      "name": "python3",
      "display_name": "Python 3"
    }
  },
  "cells": [
    {
      "cell_type": "markdown",
      "metadata": {
        "id": "view-in-github",
        "colab_type": "text"
      },
      "source": [
        "<a href=\"https://colab.research.google.com/github/sanyhmahadi/Mortgage_Payment_Starter_App/blob/main/python1.ipynb\" target=\"_parent\"><img src=\"https://colab.research.google.com/assets/colab-badge.svg\" alt=\"Open In Colab\"/></a>"
      ]
    },
    {
      "cell_type": "code",
      "metadata": {
        "id": "-YsHDIV8LelT",
        "colab": {
          "base_uri": "https://localhost:8080/",
          "height": 52
        },
        "outputId": "c962c968-c880-4589-8018-0ad038db3843"
      },
      "source": [
        "si = \"Our AI course teacher name is Khusbo Mam\"\r\n",
        "print(len(si))\r\n",
        "si[15]"
      ],
      "execution_count": 43,
      "outputs": [
        {
          "output_type": "stream",
          "text": [
            "40\n"
          ],
          "name": "stdout"
        },
        {
          "output_type": "execute_result",
          "data": {
            "application/vnd.google.colaboratory.intrinsic+json": {
              "type": "string"
            },
            "text/plain": [
              "'e'"
            ]
          },
          "metadata": {
            "tags": []
          },
          "execution_count": 43
        }
      ]
    },
    {
      "cell_type": "code",
      "metadata": {
        "colab": {
          "base_uri": "https://localhost:8080/",
          "height": 35
        },
        "id": "_Jh-VxE6PZx8",
        "outputId": "06158ac5-2c13-4e7f-d7f8-07deb8461451"
      },
      "source": [
        "si[-12]"
      ],
      "execution_count": 44,
      "outputs": [
        {
          "output_type": "execute_result",
          "data": {
            "application/vnd.google.colaboratory.intrinsic+json": {
              "type": "string"
            },
            "text/plain": [
              "'s'"
            ]
          },
          "metadata": {
            "tags": []
          },
          "execution_count": 44
        }
      ]
    },
    {
      "cell_type": "code",
      "metadata": {
        "colab": {
          "base_uri": "https://localhost:8080/",
          "height": 35
        },
        "id": "ZSPnAo_VQUpG",
        "outputId": "2ba7e414-ea73-4347-c07b-2099f6d3f17d"
      },
      "source": [
        "si[1:38]"
      ],
      "execution_count": 47,
      "outputs": [
        {
          "output_type": "execute_result",
          "data": {
            "application/vnd.google.colaboratory.intrinsic+json": {
              "type": "string"
            },
            "text/plain": [
              "'ur AI course teacher name is Khusbo M'"
            ]
          },
          "metadata": {
            "tags": []
          },
          "execution_count": 47
        }
      ]
    },
    {
      "cell_type": "code",
      "metadata": {
        "colab": {
          "base_uri": "https://localhost:8080/"
        },
        "id": "okk-sP74T70s",
        "outputId": "ecf0008a-5b19-4a56-cbd5-ab38a77d7434"
      },
      "source": [
        "def sum(num1,num2):\r\n",
        "  total = num1+num2\r\n",
        "  return total\r\n",
        "num1 = int(input(\"Enter 1st number: \"))\r\n",
        "num2 = int(input(\"Enter 2nd number: \"))\r\n",
        "total = sum(num1,num2)\r\n",
        "print(\"The sum is : \",total)"
      ],
      "execution_count": 52,
      "outputs": [
        {
          "output_type": "stream",
          "text": [
            "Enter 1st number: 5\n",
            "Enter 2nd number: 5\n",
            "The sum is :  10\n"
          ],
          "name": "stdout"
        }
      ]
    },
    {
      "cell_type": "code",
      "metadata": {
        "id": "80f454BhVp1y"
      },
      "source": [
        "def divisor(x,y,m):\r\n",
        "  if x%m==0 and y%m==0:\r\n",
        "    print(\"%d & %d are divide by %d\"%(x,y,m))\r\n",
        "  elif x%m == 0:\r\n",
        "    print(\"only %d is divided by %d\"%(x,m))\r\n",
        "  elif y%m == 0:\r\n",
        "    print(\"only %d is divided by %d\"%(y,m))\r\n",
        "  else:\r\n",
        "    print(\"none of %d & %d is divided %d\"%(x,y,m))\r\n",
        "\r\n"
      ],
      "execution_count": null,
      "outputs": []
    },
    {
      "cell_type": "code",
      "metadata": {
        "colab": {
          "base_uri": "https://localhost:8080/"
        },
        "id": "OAIVEpGcXmkM",
        "outputId": "ebbe8d5f-1917-4c32-e1e1-8fb6a94d896e"
      },
      "source": [
        "divisor(80,530,5)\r\n",
        "divisor(125,205,5)\r\n",
        "divisor(101,222,5)\r\n",
        "divisor(31,50,3)"
      ],
      "execution_count": 54,
      "outputs": [
        {
          "output_type": "stream",
          "text": [
            "80 & 530 are divide by 5\n",
            "125 & 205 are divide by 5\n",
            "none of 101 & 222 is divisible 5\n",
            "none of 31 & 50 is divisible 3\n"
          ],
          "name": "stdout"
        }
      ]
    },
    {
      "cell_type": "code",
      "metadata": {
        "colab": {
          "base_uri": "https://localhost:8080/"
        },
        "id": "D7gyX17pZHCV",
        "outputId": "0e750808-f730-4e5f-9120-65564cd3fac1"
      },
      "source": [
        "def sum():\r\n",
        "  a = 3+8\r\n",
        "  return a\r\n",
        "b = sum()\r\n",
        "print(b)\r\n"
      ],
      "execution_count": 26,
      "outputs": [
        {
          "output_type": "stream",
          "text": [
            "11\n"
          ],
          "name": "stdout"
        }
      ]
    },
    {
      "cell_type": "code",
      "metadata": {
        "id": "Hgh5Ht4rZT6I"
      },
      "source": [
        "def check(a=0):\r\n",
        "  if a==0:\r\n",
        "    print(\"zero\")\r\n",
        "  elif a>0:\r\n",
        "    print(\"positive\")\r\n",
        "  else:\r\n",
        "    print(\"negative\")"
      ],
      "execution_count": 27,
      "outputs": []
    },
    {
      "cell_type": "code",
      "metadata": {
        "id": "W78rvGUyZwvh"
      },
      "source": [
        "check()\r\n",
        "check(-4)\r\n",
        "check(4)\r\n",
        "\r\n"
      ],
      "execution_count": null,
      "outputs": []
    },
    {
      "cell_type": "code",
      "metadata": {
        "id": "Fg4OmXDzdYnj"
      },
      "source": [
        ""
      ],
      "execution_count": null,
      "outputs": []
    },
    {
      "cell_type": "code",
      "metadata": {
        "colab": {
          "base_uri": "https://localhost:8080/"
        },
        "id": "xuNO0KbabNjP",
        "outputId": "b7b36d15-871b-486c-a77e-6218959dfbfb"
      },
      "source": [
        "def local_scope():\r\n",
        "  a=7\r\n",
        "  print(a)\r\n",
        "\r\n",
        "\r\n",
        "local_scope()\r\n",
        "print(a)"
      ],
      "execution_count": 38,
      "outputs": [
        {
          "output_type": "stream",
          "text": [
            "7\n",
            "None\n"
          ],
          "name": "stdout"
        }
      ]
    },
    {
      "cell_type": "code",
      "metadata": {
        "colab": {
          "base_uri": "https://localhost:8080/"
        },
        "id": "CSYGBo1Nbmzz",
        "outputId": "53ce8c25-e95a-42f6-ede2-21607e0510cb"
      },
      "source": [
        "def global_scope():\r\n",
        "  global x\r\n",
        "  x = 10\r\n",
        "global_scope()\r\n",
        "print(x)"
      ],
      "execution_count": 41,
      "outputs": [
        {
          "output_type": "stream",
          "text": [
            "10\n"
          ],
          "name": "stdout"
        }
      ]
    }
  ]
}